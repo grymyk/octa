{
 "cells": [
  {
   "cell_type": "code",
   "execution_count": 175,
   "metadata": {},
   "outputs": [],
   "source": [
    "# Numpy Tutorial: Creating Arrays\n",
    "# Array of Transportation\n",
    "# https://www.python-course.eu/numpy_create_arrays.php"
   ]
  },
  {
   "cell_type": "code",
   "execution_count": 204,
   "metadata": {},
   "outputs": [],
   "source": [
    "import numpy as np\n",
    "from math import sqrt"
   ]
  },
  {
   "cell_type": "code",
   "execution_count": 205,
   "metadata": {},
   "outputs": [],
   "source": [
    "def dot(u, v):\n",
    "    return sum([coord1 * coord2 for coord1, coord2 in zip(u,v)] )\n",
    "    \n",
    "def multiply_matrix_vector(matrix, vector):\n",
    "    return tuple( dot(row, vector) for row in matrix)\n"
   ]
  },
  {
   "cell_type": "code",
   "execution_count": 213,
   "metadata": {},
   "outputs": [],
   "source": [
    "def magnitude(v):\n",
    "    return sqrt(sum([coord ** 2 for coord in v]))\n",
    "\n",
    "def scale(scalar, vector):\n",
    "    return tuple(scalar * coord for coord in vector)\n",
    "\n",
    "def unit(vector):\n",
    "    return scale(1./magnitude(vector), vector)\n",
    "\n",
    "def gomoCoord(vectors):\n",
    "    lsts = []\n",
    "    w = 1\n",
    "    \n",
    "    for vector in vectors:\n",
    "        lst = list(vector)\n",
    "        lst.append(w)\n",
    "        \n",
    "        lsts.append(lst)\n",
    "    \n",
    "    return lsts\n",
    "    \n",
    "def euclidCoord(vectors):\n",
    "    lsts = []\n",
    "    \n",
    "    for vector in vectors:\n",
    "        lst = list(vector)\n",
    "        lst.pop()\n",
    "        \n",
    "        lsts.append(lst)\n",
    "    \n",
    "    return lsts\n",
    "    \n",
    "def translation_matrix(vector):\n",
    "    tl = [\n",
    "        [1, 0, 0, 0],\n",
    "        [0, 1, 0, 0],\n",
    "        [0, 0, 1, 0],\n",
    "        [0, 0, 0, 1],\n",
    "    ]\n",
    "\n",
    "    tl[0][3] = vector[0]\n",
    "    tl[1][3] = vector[1]\n",
    "    tl[2][3] = vector[2]\n",
    "    \n",
    "    return tl \n"
   ]
  },
  {
   "cell_type": "code",
   "execution_count": 214,
   "metadata": {},
   "outputs": [],
   "source": [
    "# B = np.array([\n",
    "#     [0,2,1],\n",
    "#     [0,1,0],\n",
    "#     [1,0,-1]\n",
    "# ])\n",
    "\n",
    "# tB = B.transpose()\n",
    "# print('tB')\n",
    "# print(tB)\n",
    "\n",
    "# v = np.array([3,-2,-5])\n",
    "# column = v.reshape((3, 1))\n",
    "\n",
    "\n",
    "# c = np.matmul(tB, column)\n",
    "# print('\\ntB * column')\n",
    "# print(c)\n"
   ]
  },
  {
   "cell_type": "code",
   "execution_count": 215,
   "metadata": {},
   "outputs": [
    {
     "name": "stdout",
     "output_type": "stream",
     "text": [
      "matrix_tl:\n",
      "[[1, 0, 0, 1], [0, 1, 0, 1], [0, 0, 1, 1], [0, 0, 0, 1]]\n",
      "vertex: [0, 0, -1, 1]\n",
      "vertex: [1, 0, 0, 1]\n",
      "vertex: [0, 1, 0, 1]\n",
      "vertex: [0, -1, 0, 1]\n",
      "vertex: [-1, 0, 0, 1]\n",
      "vertex: [0, 0, 1, 1]\n",
      "new position 4\n",
      "[(1, 1, 0, 1), (2, 1, 1, 1), (1, 2, 1, 1), (1, 0, 1, 1), (0, 1, 1, 1), (1, 1, 2, 1)]\n",
      "new position 3\n",
      "[[1, 1, 0], [2, 1, 1], [1, 2, 1], [1, 0, 1], [0, 1, 1], [1, 1, 2]]\n"
     ]
    }
   ],
   "source": [
    "vertices = (\n",
    "    (0, 0, -1), # bottom point -Z\n",
    "    (1, 0, 0), (0, 1, 0), (0, -1, 0), (-1, 0, 0), # plane XOY\n",
    "    (0, 0, 1) # top point +Z\n",
    ")\n",
    "\n",
    "gomo_ver = gomoCoord(vertices)\n",
    "# print(gomo_ver)\n",
    "\n",
    "normal = (1, 1, 1)\n",
    "unit_n = unit(normal)\n",
    "# print('unit_n:', unit_n)\n",
    "\n",
    "scalar = 5\n",
    "\n",
    "# vector_tl = scale(scalar, unit_n)\n",
    "vector_tl = normal\n",
    "\n",
    "# print('vector_tl:', vector_tl)\n",
    "\n",
    "# matrix_tl= tf.translation_matrix(vector_tl)\n",
    "matrix_tl= translation_matrix(vector_tl)\n",
    "print('matrix_tl:')\n",
    "print(matrix_tl)\n",
    "\n",
    "v = multiply_matrix_vector(matrix_tl, gomo_ver[0])\n",
    "# print(v)\n",
    "\n",
    "v1 = []\n",
    "for vertex in gomo_ver:\n",
    "    print('vertex:', vertex)\n",
    "    \n",
    "    v = multiply_matrix_vector(matrix_tl, vertex)\n",
    "    v1.append(v)\n",
    "\n",
    "print('new position 4')\n",
    "print(v1)\n",
    "\n",
    "v2 = euclidCoord(v1)\n",
    "print('new position 3')\n",
    "print(v2)\n"
   ]
  },
  {
   "cell_type": "code",
   "execution_count": null,
   "metadata": {},
   "outputs": [],
   "source": []
  },
  {
   "cell_type": "code",
   "execution_count": null,
   "metadata": {},
   "outputs": [],
   "source": []
  },
  {
   "cell_type": "code",
   "execution_count": null,
   "metadata": {},
   "outputs": [],
   "source": []
  }
 ],
 "metadata": {
  "kernelspec": {
   "display_name": "Python 3",
   "language": "python",
   "name": "python3"
  },
  "language_info": {
   "codemirror_mode": {
    "name": "ipython",
    "version": 3
   },
   "file_extension": ".py",
   "mimetype": "text/x-python",
   "name": "python",
   "nbconvert_exporter": "python",
   "pygments_lexer": "ipython3",
   "version": "3.6.9"
  }
 },
 "nbformat": 4,
 "nbformat_minor": 4
}
