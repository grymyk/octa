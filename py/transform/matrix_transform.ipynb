{
 "cells": [
  {
   "cell_type": "markdown",
   "metadata": {},
   "source": [
    "Numpy Tutorial: Creating Arrays\n",
    "Array of Transportation\n",
    "https://www.python-course.eu/numpy_create_arrays.php"
   ]
  },
  {
   "cell_type": "code",
   "execution_count": 86,
   "metadata": {},
   "outputs": [
    {
     "name": "stdout",
     "output_type": "stream",
     "text": [
      "[1 2 3 4 5 6 7 8 9]\n"
     ]
    }
   ],
   "source": [
    "import numpy as np\n",
    "import transformations as tf\n",
    "\n",
    "a = np.arange(1, 10)\n",
    "print(a)"
   ]
  },
  {
   "cell_type": "code",
   "execution_count": 3,
   "metadata": {},
   "outputs": [
    {
     "name": "stdout",
     "output_type": "stream",
     "text": [
      "range(1, 10)\n",
      "[1, 2, 3, 4, 5, 6, 7, 8, 9]\n"
     ]
    }
   ],
   "source": [
    "x = range(1, 10)\n",
    "print(x)\n",
    "print(list(x))\n"
   ]
  },
  {
   "cell_type": "code",
   "execution_count": 7,
   "metadata": {},
   "outputs": [
    {
     "name": "stdout",
     "output_type": "stream",
     "text": [
      "[ 0.6  1.4  2.2  3.   3.8  4.6  5.4  6.2  7.   7.8  8.6  9.4 10.2]\n"
     ]
    }
   ],
   "source": [
    "x  = np.arange(0.6, 10.4, 0.8)\n",
    "print(x)\n"
   ]
  },
  {
   "cell_type": "code",
   "execution_count": 54,
   "metadata": {},
   "outputs": [
    {
     "name": "stdout",
     "output_type": "stream",
     "text": [
      "tB\n",
      "[[ 0  0  1]\n",
      " [ 2  1  0]\n",
      " [ 1  0 -1]]\n",
      "\n",
      "tB * column\n",
      "[[-5]\n",
      " [ 4]\n",
      " [ 8]]\n"
     ]
    }
   ],
   "source": [
    "B = np.array([\n",
    "    [0,2,1],\n",
    "    [0,1,0],\n",
    "    [1,0,-1]\n",
    "])\n",
    "\n",
    "tB = B.transpose()\n",
    "print('tB')\n",
    "print(tB)\n",
    "\n",
    "v = np.array([3,-2,-5])\n",
    "column = v.reshape((3, 1))\n",
    "\n",
    "\n",
    "c = np.matmul(tB, column)\n",
    "print('\\ntB * column')\n",
    "print(c)\n"
   ]
  },
  {
   "cell_type": "code",
   "execution_count": 85,
   "metadata": {},
   "outputs": [
    {
     "name": "stdout",
     "output_type": "stream",
     "text": [
      "\n",
      "Bv\n",
      "(1, -2, -2)\n"
     ]
    }
   ],
   "source": [
    "def dot(u, v):\n",
    "    for coord1, coord2 in zip(u,v):\n",
    "        pass\n",
    "        #print(coord1, coord2)\n",
    "    \n",
    "    #print('\\n')\n",
    "    \n",
    "    el = [coord1 * coord2 for coord1, coord2 in zip(u,v)]\n",
    "    #print(el)\n",
    "    \n",
    "    return sum(el)\n",
    "\n",
    "\n",
    "\n",
    "def multiply_matrix_vector(matrix, vector):\n",
    "    return tuple( dot(row, vector) for row in matrix)\n",
    "\n",
    "B = (\n",
    "    (0,2,1),\n",
    "    (0,1,0),\n",
    "    (1,0,-1)\n",
    ")\n",
    "\n",
    "v = (3,-2, 5)\n",
    "\n",
    "Bv = multiply_matrix_vector(B, v)\n",
    "print('\\nBv')\n",
    "print(Bv)\n",
    "\n"
   ]
  },
  {
   "cell_type": "code",
   "execution_count": 95,
   "metadata": {},
   "outputs": [
    {
     "name": "stdout",
     "output_type": "stream",
     "text": [
      "[[1. 0. 0. 3.]\n",
      " [0. 1. 0. 0.]\n",
      " [0. 0. 1. 0.]\n",
      " [0. 0. 0. 1.]]\n",
      "[[1. 0. 0.]\n",
      " [0. 1. 0.]\n",
      " [0. 0. 1.]]\n",
      "[1. 4. 6.]\n"
     ]
    }
   ],
   "source": [
    "v = [1, 4, 6]\n",
    "tX = tf.translation_matrix([3, 0, 0])\n",
    "print(tX)\n",
    "\n",
    "print(tX[:3,:3].T)\n",
    "\n",
    "v1 = np.dot(tX[:3,:3].T, v)\n",
    "print(v1)"
   ]
  },
  {
   "cell_type": "code",
   "execution_count": 111,
   "metadata": {},
   "outputs": [
    {
     "name": "stdout",
     "output_type": "stream",
     "text": [
      "v1:\n",
      "[3 0 1 1]\n"
     ]
    }
   ],
   "source": [
    "v03 = np.array([0, 0, 1])\n",
    "TL = np.array([\n",
    "    [1, 0, 0, 3,],\n",
    "    [0, 1, 0, 0],\n",
    "    [0, 0, 1, 0],\n",
    "    [0, 0, 0, 1]]\n",
    ")\n",
    "\n",
    "v04 = np.array([0, 0, 1, 1])\n",
    "\n",
    "v14 = np.dot(TL, v04)\n",
    "print('v14:')\n",
    "print(v14)\n",
    "\n",
    "#v13 = v14 - v14[4, 4]"
   ]
  }
 ],
 "metadata": {
  "kernelspec": {
   "display_name": "Python 3",
   "language": "python",
   "name": "python3"
  },
  "language_info": {
   "codemirror_mode": {
    "name": "ipython",
    "version": 3
   },
   "file_extension": ".py",
   "mimetype": "text/x-python",
   "name": "python",
   "nbconvert_exporter": "python",
   "pygments_lexer": "ipython3",
   "version": "3.6.9"
  }
 },
 "nbformat": 4,
 "nbformat_minor": 4
}
