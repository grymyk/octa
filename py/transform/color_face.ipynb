{
 "cells": [
  {
   "cell_type": "code",
   "execution_count": 8,
   "metadata": {},
   "outputs": [
    {
     "name": "stdout",
     "output_type": "stream",
     "text": [
      "[[0.41, 0.95, 0.48], [0, 0.2, 0], [0, 0.2, 0], [0, 0.2, 0], [0, 0.2, 0], [0, 0.2, 0], [0, 0.2, 0], [0, 0.2, 0]]\n"
     ]
    }
   ],
   "source": [
    "def getColorFace(default_color, active_i, active_color):\n",
    "    len_face = 8\n",
    "    \n",
    "    face_colors = [default_color for color in range(8)]\n",
    "    face_colors[active_i] = active_color\n",
    "    \n",
    "    return face_colors\n",
    "    \n",
    "default_color = [0, 0.2, 0]\n",
    "active_i = 0\n",
    "active_color = [0.41, 0.95, 0.48]\n",
    "\n",
    "print( getColorFace(default_color, active_i, active_color) )\n"
   ]
  },
  {
   "cell_type": "code",
   "execution_count": 4,
   "metadata": {},
   "outputs": [
    {
     "name": "stdout",
     "output_type": "stream",
     "text": [
      "[(1, 1.0, 1), (1, 0.5, 1), (1, 0.33, 1), (1, 0.25, 1), (1, 0.2, 1), (1, 0.17, 1), (1, 0.14, 1), (1, 0.12, 1)]\n"
     ]
    }
   ],
   "source": [
    "vertex_len = 9\n",
    "len_face = vertex_len * 1 \n",
    "\n",
    "color_face = [(1, round(1 / face, 2) , 1) for face in range(1, len_face)]\n",
    "\n",
    "print(color_face)"
   ]
  },
  {
   "cell_type": "code",
   "execution_count": 9,
   "metadata": {},
   "outputs": [],
   "source": [
    "faces = (\n",
    "    (0, 1, 2), (0, 1, 3), (0, 3, 4), (0, 2, 4), # bottom faces\n",
    "    (1, 2, 5), (1, 3, 5), (3, 4, 5), (2, 4, 5)  # top faces\n",
    ")\n",
    "\n",
    "vertices = (\n",
    "    (0, 0, -1), # bottom point -Z\n",
    "    (1, 0, 0), (0, 1, 0), (0, -1, 0), (-1, 0, 0), # plane XOY\n",
    "    (0, 0, 1) # top point +Z\n",
    ")\n"
   ]
  },
  {
   "cell_type": "code",
   "execution_count": 13,
   "metadata": {},
   "outputs": [],
   "source": [
    "c = 0\n",
    "\n",
    "for face in faces:\n",
    "    pass\n",
    "#     print(face)\n",
    "#     print('c:', c)\n",
    "    \n",
    "    for vertex_i in face:\n",
    "        pass\n",
    "#         print('color:', color_face[c])\n",
    "        \n",
    "    c += 1\n"
   ]
  },
  {
   "cell_type": "code",
   "execution_count": 21,
   "metadata": {},
   "outputs": [
    {
     "name": "stdout",
     "output_type": "stream",
     "text": [
      "[[0, 0.2, 0], [0, 0.2, 0], [0, 0.2, 0], [0, 0.2, 0], [0, 0.2, 0], [0, 0.2, 0], [0, 0.2, 0], [0, 0.2, 0]]\n",
      "[[0, 0.2, 0], [0, 0.2, 0], [0, 0.2, 0], [0, 0.2, 0], [0.41, 0.95, 0.48], [0, 0.2, 0], [0, 0.2, 0], [0, 0.2, 0]]\n"
     ]
    }
   ],
   "source": [
    "active_color = [0.41, 0.95, 0.48]\n",
    "active_index = 4\n",
    "pasive = [0, 0.2, 0]\n",
    "\n",
    "color = [pasive for i in range(8)]\n",
    "\n",
    "print(color)\n",
    "color[active_index] = active_color\n",
    "print(color)\n"
   ]
  },
  {
   "cell_type": "code",
   "execution_count": null,
   "metadata": {},
   "outputs": [],
   "source": []
  }
 ],
 "metadata": {
  "kernelspec": {
   "display_name": "Python 3",
   "language": "python",
   "name": "python3"
  },
  "language_info": {
   "codemirror_mode": {
    "name": "ipython",
    "version": 3
   },
   "file_extension": ".py",
   "mimetype": "text/x-python",
   "name": "python",
   "nbconvert_exporter": "python",
   "pygments_lexer": "ipython3",
   "version": "3.6.9"
  }
 },
 "nbformat": 4,
 "nbformat_minor": 4
}
