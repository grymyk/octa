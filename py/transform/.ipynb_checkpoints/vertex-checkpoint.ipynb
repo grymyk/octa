{
 "cells": [
  {
   "cell_type": "code",
   "execution_count": 4,
   "metadata": {},
   "outputs": [],
   "source": [
    "import numpy as np\n",
    "import transformations as tf"
   ]
  },
  {
   "cell_type": "code",
   "execution_count": 32,
   "metadata": {},
   "outputs": [
    {
     "name": "stdout",
     "output_type": "stream",
     "text": [
      "TL:\n",
      "[[1. 0. 0. 2.]\n",
      " [0. 1. 0. 0.]\n",
      " [0. 0. 1. 0.]\n",
      " [0. 0. 0. 1.]]\n",
      "vertex_list 4: [[0, 0, 1, 1], [0, 0, -1, 1], [1, 0, 0, 1], [0, 1, 0, 1], [-1, 0, 0, 1], [0, -1, 0, 1]]\n",
      "v04:\n",
      "[[ 0  0  1  1]\n",
      " [ 0  0 -1  1]\n",
      " [ 1  0  0  1]\n",
      " [ 0  1  0  1]\n",
      " [-1  0  0  1]\n",
      " [ 0 -1  0  1]]\n",
      "v04t:\n",
      "[[ 0  0  1  0 -1  0]\n",
      " [ 0  0  0  1  0 -1]\n",
      " [ 1 -1  0  0  0  0]\n",
      " [ 1  1  1  1  1  1]]\n",
      "v14:\n",
      "[[ 2.  2.  3.  2.  1.  2.]\n",
      " [ 0.  0.  0.  1.  0. -1.]\n",
      " [ 1. -1.  0.  0.  0.  0.]\n",
      " [ 1.  1.  1.  1.  1.  1.]]\n",
      "v13\n",
      "[[ 2.  0.  1.]\n",
      " [ 2.  0. -1.]\n",
      " [ 3.  0.  0.]\n",
      " [ 2.  1.  0.]\n",
      " [ 1.  0.  0.]\n",
      " [ 2. -1.  0.]]\n"
     ]
    }
   ],
   "source": [
    "delta = (2, 0, 0)\n",
    "TL = tf.translation_matrix(delta)\n",
    "print('TL:')\n",
    "print(TL)\n",
    "\n",
    "vertices_0 = [\n",
    "    [0, 0, 1], [0, 0, -1], [1, 0, 0],\n",
    "    [0, 1, 0], [-1, 0, 0], [0, -1, 0]\n",
    "]\n",
    "\n",
    "vertices_1 = []\n",
    "w_coord = [1]\n",
    "for vertex in vertices_0:\n",
    "    vertices_1.append( vertex + w_coord)\n",
    "\n",
    "print(\"vertex_list 4:\", vertex_list)\n",
    "\n",
    "v04t = np.array(vertex_list).transpose()\n",
    "print('v04t:')\n",
    "print(v04t)\n",
    "\n",
    "v14t = np.dot(TL, v04t)\n",
    "\n",
    "v13 = v14t[0:3].transpose()\n",
    "print('v13')\n",
    "print(v13)\n",
    "\n"
   ]
  },
  {
   "cell_type": "code",
   "execution_count": null,
   "metadata": {},
   "outputs": [],
   "source": []
  },
  {
   "cell_type": "code",
   "execution_count": null,
   "metadata": {},
   "outputs": [],
   "source": []
  }
 ],
 "metadata": {
  "kernelspec": {
   "display_name": "Python 3",
   "language": "python",
   "name": "python3"
  },
  "language_info": {
   "codemirror_mode": {
    "name": "ipython",
    "version": 3
   },
   "file_extension": ".py",
   "mimetype": "text/x-python",
   "name": "python",
   "nbconvert_exporter": "python",
   "pygments_lexer": "ipython3",
   "version": "3.6.9"
  }
 },
 "nbformat": 4,
 "nbformat_minor": 4
}
