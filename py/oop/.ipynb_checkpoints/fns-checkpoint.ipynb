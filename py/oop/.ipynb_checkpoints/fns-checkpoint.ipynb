{
 "cells": [
  {
   "cell_type": "code",
   "execution_count": null,
   "metadata": {},
   "outputs": [],
   "source": [
    "# Classes and functions¶\n",
    "# http://www.openbookproject.net/thinkcs/python/english2e/ch14.html"
   ]
  },
  {
   "cell_type": "code",
   "execution_count": 2,
   "metadata": {},
   "outputs": [],
   "source": [
    "class Time:\n",
    "    pass\n"
   ]
  },
  {
   "cell_type": "code",
   "execution_count": null,
   "metadata": {},
   "outputs": [],
   "source": [
    "# pure function\n",
    "\n",
    "def add_time(t1, t2):\n",
    "    sum = Time()\n",
    "    \n",
    "    sum.hours = t1.hours + t2.hours\n",
    "    sum.minutes = t1.minutes + t2.minutes\n",
    "    sum.seconds = t1.seconds + t2.seconds\n",
    "    \n",
    "    return sum"
   ]
  }
 ],
 "metadata": {
  "kernelspec": {
   "display_name": "Python 3",
   "language": "python",
   "name": "python3"
  },
  "language_info": {
   "codemirror_mode": {
    "name": "ipython",
    "version": 3
   },
   "file_extension": ".py",
   "mimetype": "text/x-python",
   "name": "python",
   "nbconvert_exporter": "python",
   "pygments_lexer": "ipython3",
   "version": "3.6.9"
  }
 },
 "nbformat": 4,
 "nbformat_minor": 4
}
